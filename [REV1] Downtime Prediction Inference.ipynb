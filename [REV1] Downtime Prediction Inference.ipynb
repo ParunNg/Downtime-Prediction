{
 "cells": [
  {
   "cell_type": "code",
   "execution_count": 1,
   "metadata": {},
   "outputs": [],
   "source": [
    "import numpy as np\n",
    "import pandas as pd\n",
    "import torch\n",
    "import matplotlib.pyplot as plt\n",
    "from statsmodels.tsa.seasonal import seasonal_decompose\n",
    "from sklearn.preprocessing import MinMaxScaler"
   ]
  },
  {
   "cell_type": "code",
   "execution_count": 2,
   "metadata": {},
   "outputs": [],
   "source": [
    "prod_df = pd.read_excel(\"./data/Prod_rev1.xlsx\")"
   ]
  },
  {
   "cell_type": "code",
   "execution_count": 3,
   "metadata": {},
   "outputs": [
    {
     "name": "stdout",
     "output_type": "stream",
     "text": [
      "'Date' is not convertible to Float\n",
      "'M/C' is not convertible to Float\n",
      "'Ton' is not convertible to Float\n",
      "'Status' is not convertible to Float\n",
      "'ItemId' is not convertible to Float\n",
      "'ItemName' is not convertible to Float\n",
      "'Material Code' is not convertible to Float\n",
      "'Material Name' is not convertible to Float\n",
      "'M/B  Code' is not convertible to Float\n",
      "'M/B  Name' is not convertible to Float\n",
      "'Colour' is not convertible to Float\n",
      "'Customer' is not convertible to Float\n",
      "'Group Industry' is not convertible to Float\n",
      "'Die  No' is not convertible to Float\n",
      "'Shief' is not convertible to Float\n",
      "'Unnamed: 200' is not convertible to Float\n"
     ]
    }
   ],
   "source": [
    "for col in prod_df.columns:\n",
    "    try:\n",
    "        new_col = prod_df[col].replace(\"-\", None).astype(float)\n",
    "        prod_df[col] = new_col\n",
    "    except:\n",
    "        print(f\"'{col}' is not convertible to Float\")"
   ]
  },
  {
   "cell_type": "code",
   "execution_count": 4,
   "metadata": {},
   "outputs": [
    {
     "name": "stderr",
     "output_type": "stream",
     "text": [
      "C:\\Users\\Admin\\AppData\\Local\\Temp\\ipykernel_12480\\2837624475.py:2: PerformanceWarning: DataFrame is highly fragmented.  This is usually the result of calling `frame.insert` many times, which has poor performance.  Consider joining all columns at once using pd.concat(axis=1) instead. To get a de-fragmented frame, use `newframe = frame.copy()`\n",
      "  prod_df['Unplanned stop time'] = prod_df['Down mold'] + prod_df['Up mold'] + prod_df['Setup equipment'] + prod_df['Adjust setup'] + prod_df['Qc accepted time'] + prod_df['Robot problem'] + prod_df['Adjust mc'] + prod_df['Change filter'] + prod_df['Change insert'] + prod_df['Change mat'] + prod_df['Change Date'] + prod_df['Clean machine'] + prod_df['Clean mold'] + prod_df['Clean screw'] + prod_df['Hopper problem'] + prod_df['Jig problem'] + prod_df['M/C problem'] + prod_df['Mold problem'] + prod_df['Nozzle Leak'] + prod_df['Clogged Gauge'] + prod_df['Part attached mold '] + prod_df['Power failure '] + prod_df['Contaminated pellets'] + prod_df['Pellets do not drop'] + prod_df['Mold waiting '] + prod_df['Packing waiting'] + prod_df['Assembly part waiting '] + prod_df['Waiting for crane '] + prod_df['Mold mounting waiting'] + prod_df['Waiting to adjust work'] + prod_df['Water leak '] + prod_df['Pellet drying'] + prod_df['Gauge pluged '] + prod_df['Waiting for pellets '] + prod_df['Runner attached mold ']\n"
     ]
    }
   ],
   "source": [
    "# Calculate unplanned downtime by summing downtime of each category\n",
    "prod_df['Unplanned stop time'] = prod_df['Down mold'] + prod_df['Up mold'] + prod_df['Setup equipment'] + prod_df['Adjust setup'] + prod_df['Qc accepted time'] + prod_df['Robot problem'] + prod_df['Adjust mc'] + prod_df['Change filter'] + prod_df['Change insert'] + prod_df['Change mat'] + prod_df['Change Date'] + prod_df['Clean machine'] + prod_df['Clean mold'] + prod_df['Clean screw'] + prod_df['Hopper problem'] + prod_df['Jig problem'] + prod_df['M/C problem'] + prod_df['Mold problem'] + prod_df['Nozzle Leak'] + prod_df['Clogged Gauge'] + prod_df['Part attached mold '] + prod_df['Power failure '] + prod_df['Contaminated pellets'] + prod_df['Pellets do not drop'] + prod_df['Mold waiting '] + prod_df['Packing waiting'] + prod_df['Assembly part waiting '] + prod_df['Waiting for crane '] + prod_df['Mold mounting waiting'] + prod_df['Waiting to adjust work'] + prod_df['Water leak '] + prod_df['Pellet drying'] + prod_df['Gauge pluged '] + prod_df['Waiting for pellets '] + prod_df['Runner attached mold '] "
   ]
  },
  {
   "cell_type": "code",
   "execution_count": 5,
   "metadata": {},
   "outputs": [],
   "source": [
    "i99_df = prod_df[prod_df['M/C'] == 'I-099'].copy()"
   ]
  },
  {
   "cell_type": "code",
   "execution_count": 6,
   "metadata": {},
   "outputs": [],
   "source": [
    "i99_downtime = i99_df[['Date', 'Unplanned stop time']].groupby('Date').sum()"
   ]
  },
  {
   "cell_type": "markdown",
   "metadata": {},
   "source": [
    "### Time Value Imputations\n",
    "\n",
    "In this project, we will apply the trend and seasonality decomposition method to impute missing dates in our dataset."
   ]
  },
  {
   "cell_type": "code",
   "execution_count": 8,
   "metadata": {},
   "outputs": [],
   "source": [
    "# Get dates that are not included in the dataset\n",
    "date_range = pd.date_range(start=i99_downtime.index.min(), end=i99_downtime.index.max(), freq=\"D\")\n",
    "missing_dates = date_range[~date_range.isin(i99_downtime.index)]"
   ]
  },
  {
   "cell_type": "code",
   "execution_count": 9,
   "metadata": {},
   "outputs": [],
   "source": [
    "# Decompose time-series data into trends and seasonalities\n",
    "unplanned_result = seasonal_decompose(i99_downtime['Unplanned stop time'], model=\"additive\", period=12, extrapolate_trend='freq')"
   ]
  },
  {
   "cell_type": "code",
   "execution_count": 10,
   "metadata": {},
   "outputs": [],
   "source": [
    "# Fill NaN trends using forward-filling method\n",
    "unplanned_trend = unplanned_result.trend.reindex(date_range)\n",
    "unplanned_trend_filled = unplanned_trend.ffill()"
   ]
  },
  {
   "cell_type": "code",
   "execution_count": 11,
   "metadata": {},
   "outputs": [],
   "source": [
    "# Fill NaN seasonalities using forward-filling method\n",
    "unplanned_seasonal = unplanned_result.seasonal.reindex(date_range)\n",
    "unplanned_seasonal_filled = unplanned_seasonal.ffill()"
   ]
  },
  {
   "cell_type": "code",
   "execution_count": 12,
   "metadata": {},
   "outputs": [],
   "source": [
    "# Get imputed data by trend + seasonality + residual\n",
    "imputed_unplanned = unplanned_trend_filled + unplanned_seasonal_filled + unplanned_result.resid.reindex(date_range).fillna(0)"
   ]
  },
  {
   "cell_type": "code",
   "execution_count": 13,
   "metadata": {},
   "outputs": [],
   "source": [
    "# Set imputed values less than 0 to 0\n",
    "imputed_unplanned[imputed_unplanned < 0] = 0"
   ]
  },
  {
   "cell_type": "code",
   "execution_count": 14,
   "metadata": {},
   "outputs": [],
   "source": [
    "imputed_downtime = pd.DataFrame({'Unplanned stop time': imputed_unplanned})"
   ]
  },
  {
   "cell_type": "markdown",
   "metadata": {},
   "source": [
    "### Preprocessing"
   ]
  },
  {
   "cell_type": "code",
   "execution_count": 15,
   "metadata": {},
   "outputs": [
    {
     "data": {
      "text/plain": [
       "(300,)"
      ]
     },
     "execution_count": 15,
     "metadata": {},
     "output_type": "execute_result"
    }
   ],
   "source": [
    "# train-test split for time series\n",
    "train_set = imputed_downtime['Unplanned stop time'][:300].values.astype('float')\n",
    "train_set.shape"
   ]
  },
  {
   "cell_type": "code",
   "execution_count": 16,
   "metadata": {},
   "outputs": [],
   "source": [
    "scaler = MinMaxScaler(feature_range=(-1, 1))\n",
    "train_set_norm = scaler.fit_transform(train_set.reshape(-1, 1))\n",
    "\n",
    "#convert np to tensor\n",
    "train_set_norm = torch.FloatTensor(train_set_norm).view(-1)"
   ]
  },
  {
   "cell_type": "code",
   "execution_count": 17,
   "metadata": {},
   "outputs": [],
   "source": [
    "#define function to create training set (ws days -> 1 day)\n",
    "def create_data(seq, label):\n",
    "    x_out, y_out = [], []\n",
    "    #array to hold the out\n",
    "    for i in range(seq.shape[0] - label):\n",
    "        x = seq[i:i+label]          # 30 days in the past\n",
    "        y = seq[i+label:i+label+1]  # next day\n",
    "        x_out.append(x)\n",
    "        y_out.append(y)\n",
    "    \n",
    "    \n",
    "    return np.array(x_out), np.array(y_out)"
   ]
  },
  {
   "cell_type": "code",
   "execution_count": 18,
   "metadata": {},
   "outputs": [],
   "source": [
    "#define window size\n",
    "ws = 90 #use 60 days in the past to predict the next day\n",
    "\n",
    "X, y = create_data(train_set_norm, ws)"
   ]
  },
  {
   "cell_type": "code",
   "execution_count": 19,
   "metadata": {},
   "outputs": [],
   "source": [
    "X = torch.from_numpy(X).float()\n",
    "y = torch.from_numpy(y).float()"
   ]
  },
  {
   "cell_type": "markdown",
   "metadata": {},
   "source": [
    "### Modeling"
   ]
  },
  {
   "cell_type": "code",
   "execution_count": 20,
   "metadata": {},
   "outputs": [],
   "source": [
    "import torch.nn as nn\n",
    "\n",
    "class LSTM_model(nn.Module):\n",
    "    def __init__(self, input_s = 1, hs = 50, num_layers=1, output_size = 1):\n",
    "        super().__init__()\n",
    "        self.hs = hs\n",
    "        self.num_layers = num_layers\n",
    "        self.lstm = nn.LSTM(input_s, hs, num_layers, batch_first=True)  #LSTM will automatically create W(s) for us\n",
    "        self.linear = nn.Linear(hs, output_size)  #take output of LSTM, project to prediction\n",
    "        \n",
    "    def forward(self, input_):\n",
    "        h0 = torch.zeros(self.num_layers, input_.size(0), self.hs)\n",
    "        c0 = torch.zeros(self.num_layers, input_.size(0), self.hs)\n",
    "\n",
    "        # out, _ = self.lstm(input_.reshape(input_.shape[0], 1, -1)) #30, 1, 1\n",
    "        out, _ = self.lstm(input_, (h0, c0))\n",
    "        out    = self.linear(out[:, -1, :])  #30, 100\n",
    "        return out"
   ]
  },
  {
   "cell_type": "code",
   "execution_count": 21,
   "metadata": {},
   "outputs": [
    {
     "name": "stderr",
     "output_type": "stream",
     "text": [
      "c:\\Users\\Admin\\anaconda3\\envs\\dsai\\lib\\site-packages\\tqdm\\auto.py:21: TqdmWarning: IProgress not found. Please update jupyter and ipywidgets. See https://ipywidgets.readthedocs.io/en/stable/user_install.html\n",
      "  from .autonotebook import tqdm as notebook_tqdm\n"
     ]
    }
   ],
   "source": [
    "torch.manual_seed(42)\n",
    "model = LSTM_model(num_layers=2)\n",
    "\n",
    "criterion = nn.MSELoss()\n",
    "optimizer = torch.optim.Adam(model.parameters(), lr=0.00005)"
   ]
  },
  {
   "cell_type": "code",
   "execution_count": 22,
   "metadata": {},
   "outputs": [
    {
     "name": "stderr",
     "output_type": "stream",
     "text": [
      "C:\\Users\\Admin\\AppData\\Roaming\\Python\\Python310\\site-packages\\torch\\nn\\modules\\loss.py:535: UserWarning: Using a target size (torch.Size([210, 1])) that is different to the input size (torch.Size([210])). This will likely lead to incorrect results due to broadcasting. Please ensure they have the same size.\n",
      "  return F.mse_loss(input, target, reduction=self.reduction)\n"
     ]
    },
    {
     "name": "stdout",
     "output_type": "stream",
     "text": [
      "Epoch: 20 Loss: 0.61448365\n",
      "Epoch: 40 Loss: 0.57976937\n",
      "Epoch: 60 Loss: 0.54437470\n",
      "Epoch: 80 Loss: 0.50708109\n",
      "Epoch: 100 Loss: 0.46658078\n",
      "Epoch: 120 Loss: 0.42134857\n",
      "Epoch: 140 Loss: 0.36960623\n",
      "Epoch: 160 Loss: 0.30945083\n",
      "Epoch: 180 Loss: 0.23960036\n",
      "Epoch: 200 Loss: 0.16227326\n",
      "Epoch: 220 Loss: 0.09159406\n",
      "Epoch: 240 Loss: 0.05987719\n",
      "Epoch: 260 Loss: 0.05953756\n",
      "Epoch: 280 Loss: 0.05907721\n",
      "Epoch: 300 Loss: 0.05908368\n",
      "Epoch: 320 Loss: 0.05907592\n",
      "Epoch: 340 Loss: 0.05907508\n",
      "Epoch: 360 Loss: 0.05907430\n",
      "Epoch: 380 Loss: 0.05907352\n",
      "Epoch: 400 Loss: 0.05907274\n",
      "Epoch: 420 Loss: 0.05907192\n",
      "Epoch: 440 Loss: 0.05907110\n",
      "Epoch: 460 Loss: 0.05907025\n",
      "Epoch: 480 Loss: 0.05906938\n",
      "Epoch: 500 Loss: 0.05906850\n"
     ]
    }
   ],
   "source": [
    "epochs = 500\n",
    "prev_loss = np.inf\n",
    "model_path = \"./model/lstm.pt\"\n",
    "\n",
    "for i in range(1, epochs+1):\n",
    "    \n",
    "    # tuple-unpack the chaky_data set\n",
    "    y_pred = model(X.unsqueeze(-1)).squeeze()\n",
    "    loss = criterion(y_pred, y)\n",
    "    optimizer.zero_grad()\n",
    "    loss.backward()\n",
    "    optimizer.step()\n",
    "        \n",
    "    # print training result\n",
    "    if i % 20 == 0:\n",
    "        curr_loss = loss.item()\n",
    "        print(f'Epoch: {i:2} Loss: {curr_loss:10.8f}')\n",
    "\n",
    "        if curr_loss < prev_loss:\n",
    "            torch.save(model.state_dict(), model_path)\n",
    "            prev_loss = curr_loss"
   ]
  },
  {
   "cell_type": "code",
   "execution_count": 27,
   "metadata": {},
   "outputs": [
    {
     "data": {
      "image/png": "[encoded data removed]",
      "text/plain": [
       "<Figure size 640x480 with 1 Axes>"
      ]
     },
     "metadata": {},
     "output_type": "display_data"
    }
   ],
   "source": [
    "pred_range = 30\n",
    "ref_set = train_set[-ws:]\n",
    "inf_set = train_set_norm[-ws:]\n",
    "inf_outputs = []\n",
    "inf_output = None\n",
    "fig_path = './figure/downtime_pred.png'\n",
    "\n",
    "# Iteratively predict for next day using the inference set and previous predictions\n",
    "with torch.no_grad():\n",
    "    for i in range(pred_range):\n",
    "        if inf_output:\n",
    "            inf_set = torch.cat((inf_set[-ws+1:], torch.FloatTensor([inf_output])))\n",
    "        inf_output = model(inf_set.unsqueeze(0).unsqueeze(-1)).squeeze().item()\n",
    "        inf_outputs.append(inf_output)\n",
    "\n",
    "inf_outputs = np.array(inf_outputs).reshape(-1, 1)\n",
    "inf_outputs = scaler.inverse_transform(inf_outputs).flatten().tolist()\n",
    "inf_outputs.insert(0, ref_set[-1])\n",
    "\n",
    "# Plot the true values and the predictions\n",
    "plt.plot(ref_set, label=\"True Values\")\n",
    "plt.plot(range(ws - 1, ws - 1 + len(inf_outputs)), inf_outputs, label=\"Predictions\")\n",
    "plt.xlabel(\"Time\")\n",
    "plt.ylabel(\"Value\")\n",
    "plt.legend()\n",
    "plt.title(\"LSTM Predictions vs True Values\")\n",
    "\n",
    "plt.savefig(fig_path)\n",
    "plt.show()\n",
    "plt.close()"
   ]
  },
  {
   "cell_type": "code",
   "execution_count": null,
   "metadata": {},
   "outputs": [],
   "source": []
  }
 ],
 "metadata": {
  "kernelspec": {
   "display_name": "dsai",
   "language": "python",
   "name": "python3"
  },
  "language_info": {
   "codemirror_mode": {
    "name": "ipython",
    "version": 3
   },
   "file_extension": ".py",
   "mimetype": "text/x-python",
   "name": "python",
   "nbconvert_exporter": "python",
   "pygments_lexer": "ipython3",
   "version": "3.10.13"
  }
 },
 "nbformat": 4,
 "nbformat_minor": 2
}
